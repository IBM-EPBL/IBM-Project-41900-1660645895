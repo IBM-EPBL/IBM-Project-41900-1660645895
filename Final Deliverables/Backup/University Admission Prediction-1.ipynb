{
 "cells": [
  {
   "cell_type": "markdown",
   "id": "35defedf",
   "metadata": {},
   "source": [
    "<center><h2>Importing the Libraries</h2></center>"
   ]
  },
  {
   "cell_type": "code",
   "execution_count": null,
   "id": "e821d352",
   "metadata": {},
   "outputs": [],
   "source": [
    "import numpy as np\n",
    "import pandas as pd\n",
    "import matplotlib.pyplot as plt\n",
    "import seaborn as sns\n",
    "%matplotlib inline"
   ]
  },
  {
   "cell_type": "markdown",
   "id": "d8b7e842",
   "metadata": {},
   "source": [
    "<center><h2>Reading the Dataset</h2></center>"
   ]
  },
  {
   "cell_type": "code",
   "execution_count": null,
   "id": "af5cabab",
   "metadata": {},
   "outputs": [],
   "source": [
    "\n",
    "import types\n",
    "import pandas as pd\n",
    "from botocore.client import Config\n",
    "import ibm_boto3\n",
    "\n",
    "def __iter__(self): return 0\n",
    "\n",
    "# @hidden_cell\n",
    "# The following code accesses a file in your IBM Cloud Object Storage. It includes your credentials.\n",
    "# You might want to remove those credentials before you share the notebook.\n",
    "cos_client = ibm_boto3.client(service_name='s3',\n",
    "    ibm_api_key_id='NAASk6pRpwyrEjOrYAyvhS57VDikhORRt2nLpnhzqHZN',\n",
    "    ibm_auth_endpoint=\"https://iam.cloud.ibm.com/oidc/token\",\n",
    "    config=Config(signature_version='oauth'),\n",
    "    endpoint_url='https://s3.private.us.cloud-object-storage.appdomain.cloud')\n",
    "\n",
    "bucket = 'universityadmiteligibilitypredict-donotdelete-pr-zz591uvq0llvol'\n",
    "object_key = 'Admission_Predict.csv'\n",
    "\n",
    "body = cos_client.get_object(Bucket=bucket,Key=object_key)['Body']\n",
    "# add missing __iter__ method, so pandas accepts body as file-like object\n",
    "if not hasattr(body, \"__iter__\"): body.__iter__ = types.MethodType( __iter__, body )\n",
    "\n",
    "data = pd.read_csv(body)\n",
    "data.head()\n"
   ]
  },
  {
   "cell_type": "markdown",
   "id": "47427910",
   "metadata": {},
   "source": [
    "<center><h2>Analyse the Data</h2><center>"
   ]
  },
  {
   "cell_type": "code",
   "execution_count": null,
   "id": "c7e9dea9",
   "metadata": {
    "scrolled": true
   },
   "outputs": [],
   "source": [
    "data.head()"
   ]
  },
  {
   "cell_type": "code",
   "execution_count": null,
   "id": "a9afa31a",
   "metadata": {
    "scrolled": true
   },
   "outputs": [],
   "source": [
    "data.drop([\"Serial No.\"],axis=1,inplace=True)\n",
    "data.head()"
   ]
  },
  {
   "cell_type": "markdown",
   "id": "483b7327",
   "metadata": {},
   "source": [
    "<center><h2>Handling Missing Values</h2></center>"
   ]
  },
  {
   "cell_type": "code",
   "execution_count": null,
   "id": "2b2f7f72",
   "metadata": {
    "scrolled": true
   },
   "outputs": [],
   "source": [
    "data.isnull().sum()"
   ]
  },
  {
   "cell_type": "markdown",
   "id": "2df4f0ac",
   "metadata": {},
   "source": [
    "<center><h2>Data Description</h2></center>"
   ]
  },
  {
   "cell_type": "code",
   "execution_count": null,
   "id": "50f9b3af",
   "metadata": {
    "scrolled": true
   },
   "outputs": [],
   "source": [
    "data.describe()"
   ]
  },
  {
   "cell_type": "code",
   "execution_count": null,
   "id": "1875b4a7",
   "metadata": {},
   "outputs": [],
   "source": [
    "data.info()"
   ]
  },
  {
   "cell_type": "markdown",
   "id": "39fca5a6",
   "metadata": {},
   "source": [
    "<center><h2>Data Visualisation</h2></center>\n",
    "\n"
   ]
  },
  {
   "cell_type": "code",
   "execution_count": null,
   "id": "34afb6e7",
   "metadata": {},
   "outputs": [],
   "source": [
    "from scipy import stats"
   ]
  },
  {
   "cell_type": "code",
   "execution_count": null,
   "id": "69b679e3",
   "metadata": {},
   "outputs": [],
   "source": [
    "corr_matrix = data.corr()\n",
    "corr_matrix"
   ]
  },
  {
   "cell_type": "code",
   "execution_count": null,
   "id": "8d17ec6d",
   "metadata": {},
   "outputs": [],
   "source": [
    "c=np.random.normal(loc=5,size=100,scale=2)"
   ]
  },
  {
   "cell_type": "markdown",
   "id": "b38a3493",
   "metadata": {},
   "source": [
    "<small> HISTOGRAM </small>"
   ]
  },
  {
   "cell_type": "code",
   "execution_count": null,
   "id": "0e9e6c79",
   "metadata": {},
   "outputs": [],
   "source": [
    "sns.histplot(data[\"GRE Score\"],color='orange')\n"
   ]
  },
  {
   "cell_type": "code",
   "execution_count": null,
   "id": "31630da9",
   "metadata": {},
   "outputs": [],
   "source": [
    "sns.histplot(data[\"TOEFL Score\"],color='violet')"
   ]
  },
  {
   "cell_type": "code",
   "execution_count": null,
   "id": "da411357",
   "metadata": {},
   "outputs": [],
   "source": [
    "sns.displot(data[\"University Rating\"],color='indigo')"
   ]
  },
  {
   "cell_type": "code",
   "execution_count": null,
   "id": "ed938410",
   "metadata": {},
   "outputs": [],
   "source": [
    "sns.boxplot(data[\"TOEFL Score\"],color='brown')"
   ]
  },
  {
   "cell_type": "markdown",
   "id": "2dc3ae27",
   "metadata": {},
   "source": [
    "<small> BOX PLOT </small>"
   ]
  },
  {
   "cell_type": "code",
   "execution_count": null,
   "id": "9adf4f58",
   "metadata": {},
   "outputs": [],
   "source": [
    "sns.boxplot(x=data['University Rating'],color='pink') "
   ]
  },
  {
   "cell_type": "code",
   "execution_count": null,
   "id": "6b012049",
   "metadata": {},
   "outputs": [],
   "source": [
    "sns.histplot(data.CGPA,color=\"blue\")"
   ]
  },
  {
   "cell_type": "markdown",
   "id": "9bb39453",
   "metadata": {},
   "source": [
    "<small> COUNT PLOT </small>"
   ]
  },
  {
   "cell_type": "code",
   "execution_count": null,
   "id": "a3e97387",
   "metadata": {
    "scrolled": true
   },
   "outputs": [],
   "source": [
    "sns.countplot(x=data['TOEFL Score'])"
   ]
  },
  {
   "cell_type": "markdown",
   "id": "87955ccb",
   "metadata": {},
   "source": [
    "###### BIVARIATE ANALYSIS\n",
    "<hr style=\"height:1px;\">"
   ]
  },
  {
   "cell_type": "markdown",
   "id": "84d5e0da",
   "metadata": {},
   "source": [
    "<small> BAR PLOT </small>"
   ]
  },
  {
   "cell_type": "code",
   "execution_count": null,
   "id": "3f8b6cbe",
   "metadata": {},
   "outputs": [],
   "source": [
    "sns.barplot(x=data.SOP,y=data.CGPA)"
   ]
  },
  {
   "cell_type": "markdown",
   "id": "6e31a2bf",
   "metadata": {},
   "source": [
    "<small>LINEAR PLOT</small>"
   ]
  },
  {
   "cell_type": "code",
   "execution_count": null,
   "id": "d924f53d",
   "metadata": {},
   "outputs": [],
   "source": [
    "sns.lineplot(data[\"GRE Score\"],data[\"SOP\"], color='aqua')"
   ]
  },
  {
   "cell_type": "code",
   "execution_count": null,
   "id": "2b299f61",
   "metadata": {},
   "outputs": [],
   "source": [
    "sns.lineplot(x=data.SOP,y=data.CGPA, color='purple')"
   ]
  },
  {
   "cell_type": "markdown",
   "id": "7fb11887",
   "metadata": {},
   "source": [
    "<small>SCATTER PLOT</small>"
   ]
  },
  {
   "cell_type": "code",
   "execution_count": null,
   "id": "f678dba1",
   "metadata": {
    "scrolled": true
   },
   "outputs": [],
   "source": [
    "sns.scatterplot(x=data['TOEFL Score'],y=data['University Rating'],color='green')"
   ]
  },
  {
   "cell_type": "markdown",
   "id": "cb8a095c",
   "metadata": {},
   "source": [
    "<small>POINT PLOT</small>"
   ]
  },
  {
   "cell_type": "code",
   "execution_count": null,
   "id": "3121dd40",
   "metadata": {
    "scrolled": true
   },
   "outputs": [],
   "source": [
    "sns.pointplot(x=data['SOP'],y=data['CGPA'],color='yellow')"
   ]
  },
  {
   "cell_type": "markdown",
   "id": "054b8143",
   "metadata": {},
   "source": [
    "<small>REG PLOT</small>"
   ]
  },
  {
   "cell_type": "code",
   "execution_count": null,
   "id": "97c160dc",
   "metadata": {},
   "outputs": [],
   "source": [
    "sns.regplot(x=data.CGPA,y=data['GRE Score'],color='Brown') "
   ]
  },
  {
   "cell_type": "markdown",
   "id": "91e3958b",
   "metadata": {},
   "source": [
    "<small>RELPLOT</small>"
   ]
  },
  {
   "cell_type": "code",
   "execution_count": null,
   "id": "8392de12",
   "metadata": {
    "scrolled": false
   },
   "outputs": [],
   "source": [
    "sns.relplot(x=\"GRE Score\",y=\"CGPA\",data=data)"
   ]
  },
  {
   "cell_type": "markdown",
   "id": "636554cb",
   "metadata": {},
   "source": [
    "<center><h2>SPLITTING DEPENDENT AND INDEPENDENT COLUMNS</h2></center>"
   ]
  },
  {
   "cell_type": "code",
   "execution_count": null,
   "id": "35a34ccb",
   "metadata": {},
   "outputs": [],
   "source": [
    "from sklearn.model_selection import train_test_split\n",
    "from sklearn.linear_model import LinearRegression\n",
    "from sklearn.tree import DecisionTreeRegressor\n",
    "from sklearn.ensemble import RandomForestRegressor\n",
    "from sklearn.metrics import r2_score"
   ]
  },
  {
   "cell_type": "code",
   "execution_count": null,
   "id": "f840a40e",
   "metadata": {},
   "outputs": [],
   "source": [
    "x = data[[\"GRE Score\",\"TOEFL Score\",\"University Rating\",\"SOP\",\"LOR \",\"CGPA\", \"Research\"]]\n",
    "y = data[\"Chance of Admit \"].values.reshape(-1,1)\n",
    "\n",
    "x_train, x_test, y_train, y_test = train_test_split(x,y,test_size=0.2,random_state=42)"
   ]
  },
  {
   "cell_type": "code",
   "execution_count": null,
   "id": "25409600",
   "metadata": {},
   "outputs": [],
   "source": [
    "multiple_lin_reg = LinearRegression()\n",
    "multiple_lin_reg.fit(x_train,y_train)\n",
    "\n",
    "y_pred_mlr = multiple_lin_reg.predict(x_test)\n",
    "\n",
    "r2_score_mlr = r2_score(y_test,y_pred_mlr)\n",
    "print(\"Mutiple Linear Regression's Score = {:.3f}\".format(r2_score_mlr))"
   ]
  },
  {
   "cell_type": "code",
   "execution_count": null,
   "id": "fd11a7c5",
   "metadata": {
    "scrolled": true
   },
   "outputs": [],
   "source": [
    "tree_reg = DecisionTreeRegressor()\n",
    "tree_reg.fit(x_train,y_train)\n",
    "\n",
    "y_pred_tree = tree_reg.predict(x_test)\n",
    "\n",
    "r2_score_tree = r2_score(y_test,y_pred_tree)\n",
    "print(\"Decision Tree Regression's Score = {:.3f}\".format(r2_score_tree))"
   ]
  },
  {
   "cell_type": "code",
   "execution_count": null,
   "id": "fb8763a5",
   "metadata": {},
   "outputs": [],
   "source": [
    "ran_for_reg = RandomForestRegressor(n_estimators=100,random_state=42)\n",
    "ran_for_reg.fit(x_train,y_train)\n",
    "\n",
    "y_pred_rfr = ran_for_reg.predict(x_test)\n",
    "\n",
    "r2_score_rfr = r2_score(y_test,y_pred_rfr)\n",
    "print(\"Random Forest Regression's Score = {:.3f}\".format(r2_score_rfr))"
   ]
  },
  {
   "cell_type": "markdown",
   "id": "5a606bef",
   "metadata": {},
   "source": [
    "<center><h2>SAVING THE MODELS</h2></center>"
   ]
  },
  {
   "cell_type": "code",
   "execution_count": null,
   "id": "72e614c2",
   "metadata": {},
   "outputs": [],
   "source": [
    "import pickle\n",
    "pickle.dump(multiple_lin_reg,open('university.pkl','wb'))\n",
    "pickle.dump(multiple_lin_reg, open(\"university_percent.pkl\", \"wb\"))\n",
    "lr = pickle.load(open(\"university.pkl\", \"rb\")) #logistic regression model\n",
    "gd = pickle.load(open(\"university_percent.pkl\", \"rb\")) #regression model"
   ]
  },
  {
   "cell_type": "code",
   "execution_count": null,
   "id": "6b9336f7",
   "metadata": {},
   "outputs": [],
   "source": [
    "!pip install ibm_watson_machine_learning"
   ]
  },
  {
   "cell_type": "code",
   "execution_count": null,
   "id": "4e3db27b",
   "metadata": {},
   "outputs": [],
   "source": [
    "from ibm_watson_machine_learning import APIClient\n",
    "wml_credentials = {\n",
    "                    \"url\":\"https://us-south.ml.cloud.ibm.com\",\n",
    "                    \"apikey\":\"0zRs_HVV9HNSSzHy-sO_y_XWgsYQFlchHxmeakje1g0H\"\n",
    "                  }\n",
    "client = APIClient(wml_credentials)"
   ]
  },
  {
   "cell_type": "code",
   "execution_count": null,
   "id": "5c1000ed",
   "metadata": {},
   "outputs": [],
   "source": [
    "def guid_from_space_name(client,space_name):\n",
    "    space = client.spaces.get_details()\n",
    "    return(next(item for item in space['resources'] if item['entity']['name']== space_name)['metadata']['id'])"
   ]
  },
  {
   "cell_type": "code",
   "execution_count": null,
   "id": "fbf59713",
   "metadata": {},
   "outputs": [],
   "source": [
    "space_uid = guid_from_space_name(client,'models')\n",
    "print(\"Space UID = \" + space_uid)"
   ]
  },
  {
   "cell_type": "code",
   "execution_count": null,
   "id": "9ba147e9",
   "metadata": {},
   "outputs": [],
   "source": [
    "client.set.default_space(space_uid)"
   ]
  },
  {
   "cell_type": "code",
   "execution_count": null,
   "id": "46c402c6",
   "metadata": {},
   "outputs": [],
   "source": [
    "client.software_specifications.list(100)"
   ]
  },
  {
   "cell_type": "code",
   "execution_count": null,
   "id": "181ebf06",
   "metadata": {},
   "outputs": [],
   "source": [
    "software_spec_uid =client.software_specifications.get_uid_by_name(\"runtime-22.1-py3.9\")\n",
    "software_spec_uid"
   ]
  },
  {
   "cell_type": "code",
   "execution_count": null,
   "id": "144a4ecb",
   "metadata": {},
   "outputs": [],
   "source": [
    "model_details = client.repository.store_model(model=lr, meta_props={\n",
    "     client.repository.ModelMetaNames.NAME: \"University_admit\",\n",
    "     client.repository.ModelMetaNames.SOFTWARE_SPEC_UID: software_spec_uid,\n",
    "     client.repository.ModelMetaNames.TYPE: \"scikit-learn_1.0\"}\n",
    "                                             )\n"
   ]
  },
  {
   "cell_type": "code",
   "execution_count": null,
   "id": "2a9f657d",
   "metadata": {},
   "outputs": [],
   "source": [
    "model_id = client.repository.get_model_id(model_details)"
   ]
  },
  {
   "cell_type": "code",
   "execution_count": null,
   "id": "25468989",
   "metadata": {},
   "outputs": [],
   "source": [
    "model_id"
   ]
  },
  {
   "cell_type": "code",
   "execution_count": null,
   "id": "9918e726",
   "metadata": {},
   "outputs": [],
   "source": [
    "x_train"
   ]
  },
  {
   "cell_type": "code",
   "execution_count": null,
   "id": "ff447d07",
   "metadata": {
    "scrolled": false
   },
   "outputs": [],
   "source": [
    "multiple_lin_reg.predict(x_train)"
   ]
  },
  {
   "cell_type": "code",
   "execution_count": null,
   "id": "cba4ffcc",
   "metadata": {},
   "outputs": [],
   "source": []
  }
 ],
 "metadata": {
  "kernelspec": {
   "display_name": "Python 3 (ipykernel)",
   "language": "python",
   "name": "python3"
  },
  "language_info": {
   "codemirror_mode": {
    "name": "ipython",
    "version": 3
   },
   "file_extension": ".py",
   "mimetype": "text/x-python",
   "name": "python",
   "nbconvert_exporter": "python",
   "pygments_lexer": "ipython3",
   "version": "3.9.12"
  }
 },
 "nbformat": 4,
 "nbformat_minor": 5
}
